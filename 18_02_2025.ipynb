{
 "cells": [
  {
   "cell_type": "code",
   "execution_count": 1,
   "metadata": {},
   "outputs": [],
   "source": [
    "import numpy as np\n",
    "import pandas as pd\n",
    "import matplotlib.pyplot as plt\n",
    "import seaborn as sns\n"
   ]
  },
  {
   "cell_type": "markdown",
   "metadata": {},
   "source": [
    "1. merge()\n",
    "Ne İşe Yarar? İki DataFrame'i ortak bir sütun (key) veya indeks (satır) üzerinden birleştirmek için kullanılır.\n",
    "\n",
    "\n",
    "on parametresi ile birleştirme yapılacak sütun belirtilir."
   ]
  },
  {
   "cell_type": "code",
   "execution_count": 14,
   "metadata": {},
   "outputs": [
    {
     "name": "stdout",
     "output_type": "stream",
     "text": [
      "   A  B  C\n",
      "0  1  a  x\n",
      "1  2  b  y\n",
      "2  3  c  z\n"
     ]
    }
   ],
   "source": [
    "df1 = pd.DataFrame({'A': [1, 2, 3,], 'B': ['a', 'b', 'c']})\n",
    "df2 = pd.DataFrame({'A': [1, 2, 3,], 'C': ['x', 'y', 'z']})\n",
    "\n",
    "# print(df1)\n",
    "# print(df2)\n",
    "\n",
    "result = pd.merge(df1, df2, on ='A', how = 'inner')\n",
    "print(result)"
   ]
  },
  {
   "cell_type": "code",
   "execution_count": 5,
   "metadata": {},
   "outputs": [
    {
     "name": "stdout",
     "output_type": "stream",
     "text": [
      "   A  B\n",
      "0  1  a\n",
      "1  2  b\n",
      "2  3  c\n",
      "   A  C\n",
      "0  1  x\n",
      "1  2  y\n",
      "2  3  z\n"
     ]
    }
   ],
   "source": [
    "print(df1)\n",
    "print(df2)"
   ]
  },
  {
   "cell_type": "markdown",
   "metadata": {},
   "source": [
    "2. join()\n",
    "Ne İşe Yarar? İki DataFrame'i indeks veya belirli bir sütun üzerinden birleştirmek için kullanılır.\n",
    "\n",
    "Kullanım Senaryoları:\n",
    "\n",
    "merge() ile benzerdir, ancak daha çok indeksler üzerinden birleştirme yapmak için kullanılır.\n",
    "\n",
    "DataFrame'in indeksini kullanarak birleştirme yapmak istediğinizde tercih edilir.\n",
    "\n",
    "Özellikler:\n",
    "\n",
    "on parametresi ile birleştirme yapılacak sütun belirtilir.\n",
    "\n",
    "how parametresi ile birleştirme türü belirlenir (inner, left, right, outer)."
   ]
  },
  {
   "cell_type": "code",
   "execution_count": 15,
   "metadata": {},
   "outputs": [
    {
     "name": "stdout",
     "output_type": "stream",
     "text": [
      "   A  B  C   D\n",
      "x  1  a  x  10\n",
      "y  2  b  y  20\n"
     ]
    }
   ],
   "source": [
    "df1 = pd.DataFrame({'A': [1, 2, 3], 'B': ['a', 'b', 'c']}, index=['x', 'y', 'z'])\n",
    "df2 = pd.DataFrame({'C': ['x', 'y', 'w'], 'D': [10, 20, 30]}, index=['x', 'y', 'w'])\n",
    "\n",
    "result = df1.join(df2, how='inner')\n",
    "print(result)"
   ]
  },
  {
   "cell_type": "code",
   "execution_count": 16,
   "metadata": {},
   "outputs": [
    {
     "name": "stdout",
     "output_type": "stream",
     "text": [
      "   A  B\n",
      "x  1  a\n",
      "y  2  b\n",
      "z  3  c\n",
      "   C   D\n",
      "x  x  10\n",
      "y  y  20\n",
      "w  w  30\n"
     ]
    }
   ],
   "source": [
    "print(df1)\n",
    "print(df2)"
   ]
  },
  {
   "cell_type": "markdown",
   "metadata": {},
   "source": [
    "3. concat()\n",
    "Ne İşe Yarar? İki veya daha fazla DataFrame'i satır (row) veya sütun (column) bazında birleştirmek için kullanılır.\n",
    "\n",
    "Kullanım Senaryoları:\n",
    "\n",
    "DataFrame'leri üst üste (satır bazında) veya yan yana (sütun bazında) birleştirmek istediğinizde kullanılır.\n",
    "\n",
    "Farklı şekillere sahip DataFrame'leri birleştirmek için idealdir.\n",
    "\n",
    "Özellikler:\n",
    "\n",
    "axis parametresi ile birleştirme yönü belirlenir (axis=0 satır bazında, axis=1 sütun bazında).\n",
    "\n",
    "ignore_index parametresi ile indekslerin sıfırlanması sağlanabilir."
   ]
  },
  {
   "cell_type": "code",
   "execution_count": 19,
   "metadata": {},
   "outputs": [
    {
     "name": "stdout",
     "output_type": "stream",
     "text": [
      "   A  B\n",
      "0  1  a\n",
      "1  2  b\n",
      "   A  B\n",
      "0  3  c\n",
      "1  4  d\n"
     ]
    }
   ],
   "source": [
    "df1 = pd.DataFrame({'A': [1, 2], 'B': ['a', 'b']})\n",
    "df2 = pd.DataFrame({'A': [3, 4], 'B': ['c', 'd']})\n",
    "\n",
    "print(df1)\n",
    "print(df2)"
   ]
  },
  {
   "cell_type": "code",
   "execution_count": 20,
   "metadata": {},
   "outputs": [
    {
     "name": "stdout",
     "output_type": "stream",
     "text": [
      "   A  B\n",
      "0  1  a\n",
      "1  2  b\n",
      "2  3  c\n",
      "3  4  d\n"
     ]
    }
   ],
   "source": [
    "result = pd.concat([df1, df2], axis=0, ignore_index=True)\n",
    "print(result)"
   ]
  },
  {
   "cell_type": "code",
   "execution_count": 22,
   "metadata": {},
   "outputs": [
    {
     "name": "stdout",
     "output_type": "stream",
     "text": [
      "   A  B  A  B\n",
      "0  1  a  3  c\n",
      "1  2  b  4  d\n"
     ]
    }
   ],
   "source": [
    "result1 = pd.concat([df1, df2], axis=1, ignore_index=False)\n",
    "print(result1)"
   ]
  },
  {
   "cell_type": "code",
   "execution_count": null,
   "metadata": {},
   "outputs": [],
   "source": []
  }
 ],
 "metadata": {
  "kernelspec": {
   "display_name": "base",
   "language": "python",
   "name": "python3"
  },
  "language_info": {
   "codemirror_mode": {
    "name": "ipython",
    "version": 3
   },
   "file_extension": ".py",
   "mimetype": "text/x-python",
   "name": "python",
   "nbconvert_exporter": "python",
   "pygments_lexer": "ipython3",
   "version": "3.9.12"
  }
 },
 "nbformat": 4,
 "nbformat_minor": 2
}
